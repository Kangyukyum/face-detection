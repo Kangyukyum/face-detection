{
  "cells": [
    {
      "cell_type": "code",
      "execution_count": 1,
      "metadata": {
        "id": "N4og0tUiE9Jx"
      },
      "outputs": [],
      "source": [
        "import os\n",
        "import numpy as np\n",
        "import tensorflow as tf\n",
        "import matplotlib.pyplot as plt\n",
        "\n",
        "Train_path = '/content/drive/MyDrive/DataSet/Mask_detect_DataSet/Training'\n",
        "Test_path = '/content/drive/MyDrive/DataSet/Mask_detect_DataSet/Test'\n",
        "\n",
        "train_gen = tf.keras.preprocessing.image.ImageDataGenerator(horizontal_flip = True, vertical_flip = True, shear_range = 0.2, rotation_range = 30, brightness_range = [0.2, 1.0], rescale = 1./255)\n",
        "test_gen = tf.keras.preprocessing.image.ImageDataGenerator(rescale = 1./255)"
      ]
    },
    {
      "cell_type": "code",
      "execution_count": 2,
      "metadata": {
        "colab": {
          "base_uri": "https://localhost:8080/"
        },
        "id": "mQJKN_hQmFg8",
        "outputId": "7c96ea29-18f0-434a-c0d1-c2964068e70f"
      },
      "outputs": [
        {
          "name": "stdout",
          "output_type": "stream",
          "text": [
            "Found 1212 images belonging to 3 classes.\n",
            "Found 400 images belonging to 3 classes.\n"
          ]
        }
      ],
      "source": [
        "train_dataset = train_gen.flow_from_directory(Train_path, target_size = (224, 224), batch_size = 16, class_mode = 'sparse', shuffle = True)\n",
        "test_dataset = test_gen.flow_from_directory(Test_path, target_size = (224, 224), batch_size = 16, class_mode = 'sparse', shuffle = True)"
      ]
    },
    {
      "cell_type": "code",
      "execution_count": 3,
      "metadata": {
        "colab": {
          "base_uri": "https://localhost:8080/"
        },
        "id": "7EFHP_Ewnt7P",
        "outputId": "711a68e6-fe40-4063-d3bb-c3691e99a8e8"
      },
      "outputs": [
        {
          "name": "stdout",
          "output_type": "stream",
          "text": [
            "{'Invalid Mask': 0, 'Mask': 1, 'NoMask': 2}\n",
            "{'Invalid Mask': 0, 'Mask': 1, 'NoMask': 2}\n"
          ]
        }
      ],
      "source": [
        "print(train_dataset.class_indices)\n",
        "print(test_dataset.class_indices)"
      ]
    },
    {
      "cell_type": "code",
      "execution_count": 4,
      "metadata": {
        "id": "1n-eF2QY2img"
      },
      "outputs": [],
      "source": [
        "earlystopping = tf.keras.callbacks.EarlyStopping(monitor = 'val_loss', mode = 'min', patience = 5, verbose = 1)"
      ]
    },
    {
      "cell_type": "code",
      "execution_count": 5,
      "metadata": {
        "colab": {
          "base_uri": "https://localhost:8080/"
        },
        "id": "hQs5bEaK2to5",
        "outputId": "73bb0f3a-5557-4e6b-e185-d0e217688d5c"
      },
      "outputs": [
        {
          "name": "stdout",
          "output_type": "stream",
          "text": [
            "Downloading data from https://storage.googleapis.com/tensorflow/keras-applications/mobilenet_v2/mobilenet_v2_weights_tf_dim_ordering_tf_kernels_1.0_224_no_top.h5\n",
            "9406464/9406464 [==============================] - 0s 0us/step\n"
          ]
        }
      ],
      "source": [
        "feature_extraction = tf.keras.applications.mobilenet_v2.MobileNetV2(input_shape = (224, 224, 3), include_top = False, weights = 'imagenet')\n",
        "feature_extraction.trainable = False"
      ]
    },
    {
      "cell_type": "code",
      "execution_count": 6,
      "metadata": {
        "id": "fb_t0VMHa0-u"
      },
      "outputs": [],
      "source": [
        "flatten_layer = tf.keras.layers.Flatten()\n",
        "prediction_layer = tf.keras.layers.Dense(units = 128, activation = 'relu')\n",
        "bn = tf.keras.layers.BatchNormalization()\n",
        "classification_layer = tf.keras.layers.Dense(units = 3, activation = 'softmax')"
      ]
    },
    {
      "cell_type": "code",
      "execution_count": 7,
      "metadata": {
        "colab": {
          "base_uri": "https://localhost:8080/"
        },
        "id": "7l2-sVeheLAY",
        "outputId": "8b0907ec-4319-414e-e9a2-5d9a200237cd"
      },
      "outputs": [
        {
          "name": "stdout",
          "output_type": "stream",
          "text": [
            "Model: \"sequential\"\n",
            "_________________________________________________________________\n",
            " Layer (type)                Output Shape              Param #   \n",
            "=================================================================\n",
            " mobilenetv2_1.00_224 (Funct  (None, 7, 7, 1280)       2257984   \n",
            " ional)                                                          \n",
            "                                                                 \n",
            " flatten (Flatten)           (None, 62720)             0         \n",
            "                                                                 \n",
            " dense (Dense)               (None, 128)               8028288   \n",
            "                                                                 \n",
            " batch_normalization (BatchN  (None, 128)              512       \n",
            " ormalization)                                                   \n",
            "                                                                 \n",
            " dense_1 (Dense)             (None, 3)                 387       \n",
            "                                                                 \n",
            "=================================================================\n",
            "Total params: 10,287,171\n",
            "Trainable params: 8,028,931\n",
            "Non-trainable params: 2,258,240\n",
            "_________________________________________________________________\n"
          ]
        }
      ],
      "source": [
        "model = tf.keras.models.Sequential([\n",
        "    feature_extraction,\n",
        "    flatten_layer,\n",
        "    prediction_layer,\n",
        "    bn,\n",
        "    classification_layer\n",
        "])\n",
        "\n",
        "model.summary()"
      ]
    },
    {
      "cell_type": "code",
      "execution_count": 8,
      "metadata": {
        "id": "7ov4g7ChecH-"
      },
      "outputs": [],
      "source": [
        "model.compile(optimizer = tf.keras.optimizers.Adam(learning_rate = 0.01), loss = tf.keras.losses.SparseCategoricalCrossentropy(), metrics = ['accuracy'])"
      ]
    },
    {
      "cell_type": "code",
      "execution_count": 9,
      "metadata": {
        "colab": {
          "base_uri": "https://localhost:8080/"
        },
        "id": "guqGz33yevjc",
        "outputId": "c2fdbad0-faa6-45aa-c6ba-406c1242c591"
      },
      "outputs": [
        {
          "name": "stdout",
          "output_type": "stream",
          "text": [
            "Epoch 1/50\n",
            "76/76 [==============================] - 843s 11s/step - loss: 0.2397 - accuracy: 0.9208 - val_loss: 0.1237 - val_accuracy: 0.9375\n",
            "Epoch 2/50\n",
            "76/76 [==============================] - 19s 249ms/step - loss: 0.0593 - accuracy: 0.9769 - val_loss: 9.7539e-04 - val_accuracy: 1.0000\n",
            "Epoch 3/50\n",
            "76/76 [==============================] - 19s 251ms/step - loss: 0.0567 - accuracy: 0.9818 - val_loss: 0.0026 - val_accuracy: 1.0000\n",
            "Epoch 4/50\n",
            "76/76 [==============================] - 19s 256ms/step - loss: 0.0291 - accuracy: 0.9917 - val_loss: 0.0022 - val_accuracy: 1.0000\n",
            "Epoch 5/50\n",
            "76/76 [==============================] - 19s 252ms/step - loss: 0.0486 - accuracy: 0.9835 - val_loss: 0.0113 - val_accuracy: 1.0000\n",
            "Epoch 6/50\n",
            "76/76 [==============================] - 19s 251ms/step - loss: 0.0238 - accuracy: 0.9942 - val_loss: 9.0414e-04 - val_accuracy: 1.0000\n",
            "Epoch 7/50\n",
            "76/76 [==============================] - 19s 255ms/step - loss: 0.0233 - accuracy: 0.9901 - val_loss: 0.0026 - val_accuracy: 1.0000\n",
            "Epoch 8/50\n",
            "76/76 [==============================] - 20s 258ms/step - loss: 0.0149 - accuracy: 0.9950 - val_loss: 4.3781e-04 - val_accuracy: 1.0000\n",
            "Epoch 9/50\n",
            "76/76 [==============================] - 19s 256ms/step - loss: 0.0261 - accuracy: 0.9909 - val_loss: 2.7642e-04 - val_accuracy: 1.0000\n",
            "Epoch 10/50\n",
            "76/76 [==============================] - 20s 260ms/step - loss: 0.0314 - accuracy: 0.9909 - val_loss: 0.0028 - val_accuracy: 1.0000\n",
            "Epoch 11/50\n",
            "76/76 [==============================] - 20s 255ms/step - loss: 0.0229 - accuracy: 0.9934 - val_loss: 9.5136e-04 - val_accuracy: 1.0000\n",
            "Epoch 12/50\n",
            "76/76 [==============================] - 19s 251ms/step - loss: 0.0317 - accuracy: 0.9901 - val_loss: 7.0068e-04 - val_accuracy: 1.0000\n",
            "Epoch 13/50\n",
            "76/76 [==============================] - 19s 249ms/step - loss: 0.0368 - accuracy: 0.9884 - val_loss: 5.7799e-04 - val_accuracy: 1.0000\n",
            "Epoch 14/50\n",
            "76/76 [==============================] - 20s 267ms/step - loss: 0.0230 - accuracy: 0.9934 - val_loss: 5.9728e-04 - val_accuracy: 1.0000\n",
            "Epoch 14: early stopping\n"
          ]
        }
      ],
      "source": [
        "history = model.fit(train_dataset, epochs = 50, batch_size = 16, validation_data = test_dataset, verbose = 1, callbacks = [earlystopping])"
      ]
    },
    {
      "cell_type": "code",
      "execution_count": 10,
      "metadata": {
        "colab": {
          "base_uri": "https://localhost:8080/",
          "height": 282
        },
        "id": "Hhe5-A_UgmFf",
        "outputId": "84acf661-c5cf-4976-b89c-3a462cc8cf1a"
      },
      "outputs": [
        {
          "data": {
            "image/png": "[encoded data removed]",
            "text/plain": [
              "<Figure size 432x288 with 1 Axes>"
            ]
          },
          "metadata": {
            "needs_background": "light"
          },
          "output_type": "display_data"
        }
      ],
      "source": [
        "import numpy as np\n",
        "\n",
        "val_loss = history.history['val_loss']\n",
        "loss = history.history['loss']\n",
        "\n",
        "x_len = np.arange(len(loss))\n",
        "plt.plot(x_len, val_loss, marker='.', c='red', label=\"Validation Loss\")\n",
        "plt.plot(x_len, loss, marker='.', c='blue', label=\"Train Loss\")\n",
        "\n",
        "plt.xlabel('epoch')\n",
        "plt.ylabel('loss')\n",
        "plt.show()"
      ]
    },
    {
      "cell_type": "code",
      "execution_count": 11,
      "metadata": {
        "colab": {
          "base_uri": "https://localhost:8080/"
        },
        "id": "l9ThWDc7kRxE",
        "outputId": "c4835140-eabb-4004-b549-41271342da99"
      },
      "outputs": [
        {
          "name": "stdout",
          "output_type": "stream",
          "text": [
            "25/25 [==============================] - 1s 58ms/step - loss: 5.9728e-04 - accuracy: 1.0000\n"
          ]
        },
        {
          "data": {
            "text/plain": [
              "[0.0005972822546027601, 1.0]"
            ]
          },
          "execution_count": 11,
          "metadata": {},
          "output_type": "execute_result"
        }
      ],
      "source": [
        "model.evaluate(test_dataset)"
      ]
    },
    {
      "cell_type": "code",
      "execution_count": 12,
      "metadata": {
        "colab": {
          "base_uri": "https://localhost:8080/"
        },
        "id": "-NhbNkCqVwHM",
        "outputId": "a864e80a-8e6a-4656-d4cc-724e14f02b99"
      },
      "outputs": [
        {
          "name": "stdout",
          "output_type": "stream",
          "text": [
            "25/25 [==============================] - 2s 57ms/step\n"
          ]
        }
      ],
      "source": [
        "pred = model.predict(test_dataset)"
      ]
    },
    {
      "cell_type": "code",
      "execution_count": 13,
      "metadata": {
        "colab": {
          "base_uri": "https://localhost:8080/"
        },
        "id": "qvikr2_0x__A",
        "outputId": "4d8034fd-2359-487f-c4a9-b9b7894171b1"
      },
      "outputs": [
        {
          "name": "stdout",
          "output_type": "stream",
          "text": [
            "[[1.3945657e-07 9.9999082e-01 9.1063685e-06]\n",
            " [9.9995041e-01 4.6239107e-05 3.3182926e-06]\n",
            " [3.6386343e-08 1.8298618e-07 9.9999976e-01]\n",
            " ...\n",
            " [1.4974878e-08 9.9999964e-01 3.4596749e-07]\n",
            " [5.7947471e-08 5.9316285e-06 9.9999404e-01]\n",
            " [9.9997127e-01 2.0425698e-05 8.3714021e-06]]\n"
          ]
        }
      ],
      "source": [
        "print(pred)"
      ]
    },
    {
      "cell_type": "code",
      "execution_count": 14,
      "metadata": {
        "id": "VbJ6UlLCe8am"
      },
      "outputs": [],
      "source": [
        "#model.save('/content/drive/MyDrive/개인 연습/aug2_model.h5')"
      ]
    },
    {
      "cell_type": "code",
      "execution_count": 15,
      "metadata": {
        "id": "j3SKaff388Sf"
      },
      "outputs": [],
      "source": [
        "#from google.colab import files\n",
        "\n",
        "#files.download('/content/drive/MyDrive/개인 연습/aug2_model.h5')"
      ]
    }
  ],
  "metadata": {
    "accelerator": "GPU",
    "colab": {
      "collapsed_sections": [],
      "provenance": []
    },
    "gpuClass": "standard",
    "kernelspec": {
      "display_name": "Python 3.8.13 ('tensorflow')",
      "language": "python",
      "name": "python3"
    },
    "language_info": {
      "name": "python",
      "version": "3.8.13"
    },
    "vscode": {
      "interpreter": {
        "hash": "e875c0b159b49710f845577579ace004266d43cab544e27fd79e3e7753c8125a"
      }
    }
  },
  "nbformat": 4,
  "nbformat_minor": 0
}
